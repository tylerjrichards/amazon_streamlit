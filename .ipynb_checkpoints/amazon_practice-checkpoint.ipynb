{
 "cells": [
  {
   "cell_type": "code",
   "execution_count": 2,
   "id": "78062748",
   "metadata": {},
   "outputs": [],
   "source": [
    "import pandas as pd\n",
    "import numpy as np\n",
    "import matplotlib.pyplot as plt\n",
    "import seaborn as sns"
   ]
  },
  {
   "cell_type": "code",
   "execution_count": 3,
   "id": "b73a8ddc",
   "metadata": {},
   "outputs": [
    {
     "name": "stderr",
     "output_type": "stream",
     "text": [
      "Using TensorFlow backend.\n"
     ]
    }
   ],
   "source": [
    "import keras\n",
    "import textgenrnn"
   ]
  },
  {
   "cell_type": "code",
   "execution_count": 3,
   "id": "4d0dcb99",
   "metadata": {},
   "outputs": [],
   "source": [
    "df = pd.read_csv('../amazon_history.csv')"
   ]
  },
  {
   "cell_type": "code",
   "execution_count": 4,
   "id": "c50e7cca",
   "metadata": {},
   "outputs": [
    {
     "data": {
      "text/plain": [
       "Index(['Order Date', 'Order ID', 'Title', 'Category', 'ASIN/ISBN',\n",
       "       'UNSPSC Code', 'Website', 'Release Date', 'Condition', 'Seller',\n",
       "       'Seller Credentials', 'List Price Per Unit', 'Purchase Price Per Unit',\n",
       "       'Quantity', 'Payment Instrument Type', 'Purchase Order Number',\n",
       "       'PO Line Number', 'Ordering Customer Email', 'Shipment Date',\n",
       "       'Shipping Address Name', 'Shipping Address Street 1',\n",
       "       'Shipping Address Street 2', 'Shipping Address City',\n",
       "       'Shipping Address State', 'Shipping Address Zip', 'Order Status',\n",
       "       'Carrier Name & Tracking Number', 'Item Subtotal', 'Item Subtotal Tax',\n",
       "       'Item Total', 'Tax Exemption Applied', 'Tax Exemption Type',\n",
       "       'Exemption Opt-Out', 'Buyer Name', 'Currency', 'Group Name'],\n",
       "      dtype='object')"
      ]
     },
     "execution_count": 4,
     "metadata": {},
     "output_type": "execute_result"
    }
   ],
   "source": [
    "df.columns"
   ]
  },
  {
   "cell_type": "code",
   "execution_count": 5,
   "id": "a00ff9ad",
   "metadata": {},
   "outputs": [],
   "source": [
    "df['Order Date'] = pd.to_datetime(df['Order Date'])\n",
    "df['Item Total'] = df['Item Total'].replace({'\\$':''}, regex=True)\n",
    "df['Item Total'] = pd.to_numeric(df['Item Total'])"
   ]
  },
  {
   "cell_type": "code",
   "execution_count": 6,
   "id": "04844007",
   "metadata": {},
   "outputs": [],
   "source": [
    "df['Order Year'] = df['Order Date'].dt.year\n",
    "df['Order Month'] = df['Order Date'].dt.strftime('%B')\n",
    "df['Order Month Digit'] = df['Order Date'].dt.month"
   ]
  },
  {
   "cell_type": "code",
   "execution_count": 7,
   "id": "f7b55523",
   "metadata": {},
   "outputs": [
    {
     "data": {
      "text/plain": [
       "Order Year\n",
       "2015     480.93\n",
       "2016     414.58\n",
       "2017     701.46\n",
       "2018    2255.26\n",
       "2019    3868.44\n",
       "2020    6115.47\n",
       "2021    1749.93\n",
       "Name: Item Total, dtype: float64"
      ]
     },
     "execution_count": 7,
     "metadata": {},
     "output_type": "execute_result"
    }
   ],
   "source": [
    "df.groupby('Order Year').sum()['Item Total']"
   ]
  },
  {
   "cell_type": "code",
   "execution_count": 8,
   "id": "1ef77ecf",
   "metadata": {},
   "outputs": [
    {
     "data": {
      "text/plain": [
       "Text(0.5, 1.0, 'Amazon Purchase Total By Year')"
      ]
     },
     "execution_count": 8,
     "metadata": {},
     "output_type": "execute_result"
    },
    {
     "data": {
      "image/png": "[encoded data removed]",
      "text/plain": [
       "<Figure size 432x288 with 1 Axes>"
      ]
     },
     "metadata": {
      "needs_background": "light"
     },
     "output_type": "display_data"
    }
   ],
   "source": [
    "df_orders_year = pd.DataFrame(df.groupby('Order Year').sum()['Item Total']).reset_index()\n",
    "sns.barplot(data = df_orders_year, x = 'Order Year', y = 'Item Total', palette='viridis')\n",
    "sns.set_style('darkgrid')\n",
    "plt.ylabel('Purchase Count')\n",
    "plt.xlabel('Date')\n",
    "plt.title('Amazon Purchase Total By Year')"
   ]
  },
  {
   "cell_type": "code",
   "execution_count": 9,
   "id": "b6680bd6",
   "metadata": {},
   "outputs": [],
   "source": [
    "max_val = df_orders_year['Item Total'].max()\n",
    "max_year = list(df_orders_year[df_orders_year['Item Total'] == max_val]['Order Year'])[0]"
   ]
  },
  {
   "cell_type": "code",
   "execution_count": 10,
   "id": "97e29ddb",
   "metadata": {},
   "outputs": [
    {
     "data": {
      "text/plain": [
       "2020"
      ]
     },
     "execution_count": 10,
     "metadata": {},
     "output_type": "execute_result"
    }
   ],
   "source": [
    "max_year"
   ]
  },
  {
   "cell_type": "code",
   "execution_count": 11,
   "id": "bad07c50",
   "metadata": {},
   "outputs": [
    {
     "name": "stdout",
     "output_type": "stream",
     "text": [
      "[72.00781982]\n"
     ]
    },
    {
     "name": "stderr",
     "output_type": "stream",
     "text": [
      "/usr/local/lib/python3.7/site-packages/statsmodels/tsa/statespace/sarimax.py:978: UserWarning: Non-invertible starting MA parameters found. Using zeros as starting parameters.\n",
      "  warn('Non-invertible starting MA parameters found.'\n"
     ]
    }
   ],
   "source": [
    "\n",
    "# MA example\n",
    "from statsmodels.tsa.arima.model import ARIMA\n",
    "from random import random\n",
    "# contrived dataset\n",
    "data = [x + random() for x in range(1, 100)]\n",
    "# fit model\n",
    "model = ARIMA(data, order=(0, 0, 1))\n",
    "model_fit = model.fit()\n",
    "# make prediction\n",
    "yhat = model_fit.predict(len(data), len(data))\n",
    "print(yhat)"
   ]
  },
  {
   "cell_type": "code",
   "execution_count": 43,
   "id": "f42ab4dd",
   "metadata": {},
   "outputs": [
    {
     "data": {
      "text/html": [
       "<div>\n",
       "<style scoped>\n",
       "    .dataframe tbody tr th:only-of-type {\n",
       "        vertical-align: middle;\n",
       "    }\n",
       "\n",
       "    .dataframe tbody tr th {\n",
       "        vertical-align: top;\n",
       "    }\n",
       "\n",
       "    .dataframe thead th {\n",
       "        text-align: right;\n",
       "    }\n",
       "</style>\n",
       "<table border=\"1\" class=\"dataframe\">\n",
       "  <thead>\n",
       "    <tr style=\"text-align: right;\">\n",
       "      <th></th>\n",
       "      <th>Order Date</th>\n",
       "      <th>Order ID</th>\n",
       "      <th>Title</th>\n",
       "      <th>Category</th>\n",
       "      <th>ASIN/ISBN</th>\n",
       "      <th>UNSPSC Code</th>\n",
       "      <th>Website</th>\n",
       "      <th>Release Date</th>\n",
       "      <th>Condition</th>\n",
       "      <th>Seller</th>\n",
       "      <th>...</th>\n",
       "      <th>Item Total</th>\n",
       "      <th>Tax Exemption Applied</th>\n",
       "      <th>Tax Exemption Type</th>\n",
       "      <th>Exemption Opt-Out</th>\n",
       "      <th>Buyer Name</th>\n",
       "      <th>Currency</th>\n",
       "      <th>Group Name</th>\n",
       "      <th>Order Year</th>\n",
       "      <th>Order Month</th>\n",
       "      <th>Order Month Digit</th>\n",
       "    </tr>\n",
       "  </thead>\n",
       "  <tbody>\n",
       "    <tr>\n",
       "      <th>0</th>\n",
       "      <td>2015-02-08</td>\n",
       "      <td>105-1540870-8791414</td>\n",
       "      <td>[2Pack] iPhone Charger Cable Charge Cable 3Fee...</td>\n",
       "      <td>ELECTRONIC_CABLE</td>\n",
       "      <td>B00J46VVKE</td>\n",
       "      <td>43191600.0</td>\n",
       "      <td>Amazon.com</td>\n",
       "      <td>NaN</td>\n",
       "      <td>new</td>\n",
       "      <td>iXCC</td>\n",
       "      <td>...</td>\n",
       "      <td>9.99</td>\n",
       "      <td>NaN</td>\n",
       "      <td>NaN</td>\n",
       "      <td>NaN</td>\n",
       "      <td>Tyler Richards</td>\n",
       "      <td>USD</td>\n",
       "      <td>NaN</td>\n",
       "      <td>2015</td>\n",
       "      <td>February</td>\n",
       "      <td>2</td>\n",
       "    </tr>\n",
       "    <tr>\n",
       "      <th>1</th>\n",
       "      <td>2015-03-09</td>\n",
       "      <td>002-7025377-8997837</td>\n",
       "      <td>Velette Tie Clips for Men, Classic Tie Pins Se...</td>\n",
       "      <td>FASHIONOTHER</td>\n",
       "      <td>B00KB3R748</td>\n",
       "      <td>54100000.0</td>\n",
       "      <td>Amazon.com</td>\n",
       "      <td>NaN</td>\n",
       "      <td>new</td>\n",
       "      <td>Quality Stays</td>\n",
       "      <td>...</td>\n",
       "      <td>15.95</td>\n",
       "      <td>NaN</td>\n",
       "      <td>NaN</td>\n",
       "      <td>NaN</td>\n",
       "      <td>Tyler Richards</td>\n",
       "      <td>USD</td>\n",
       "      <td>NaN</td>\n",
       "      <td>2015</td>\n",
       "      <td>March</td>\n",
       "      <td>3</td>\n",
       "    </tr>\n",
       "    <tr>\n",
       "      <th>2</th>\n",
       "      <td>2015-03-09</td>\n",
       "      <td>002-7025377-8997837</td>\n",
       "      <td>Build-on Brick Shot Glass 4-pack</td>\n",
       "      <td>DRINKING_CUP</td>\n",
       "      <td>B00K8CVPU4</td>\n",
       "      <td>56101500.0</td>\n",
       "      <td>Amazon.com</td>\n",
       "      <td>NaN</td>\n",
       "      <td>new</td>\n",
       "      <td>Blue Forest Market</td>\n",
       "      <td>...</td>\n",
       "      <td>7.85</td>\n",
       "      <td>NaN</td>\n",
       "      <td>NaN</td>\n",
       "      <td>NaN</td>\n",
       "      <td>Tyler Richards</td>\n",
       "      <td>USD</td>\n",
       "      <td>NaN</td>\n",
       "      <td>2015</td>\n",
       "      <td>March</td>\n",
       "      <td>3</td>\n",
       "    </tr>\n",
       "    <tr>\n",
       "      <th>3</th>\n",
       "      <td>2015-04-06</td>\n",
       "      <td>002-3403333-5353051</td>\n",
       "      <td>Barron's AP Biology, 5th Edition</td>\n",
       "      <td>ABIS_BOOK</td>\n",
       "      <td>1438005008</td>\n",
       "      <td>55101500.0</td>\n",
       "      <td>Amazon.com</td>\n",
       "      <td>2015-01-01T00:00:01</td>\n",
       "      <td>new</td>\n",
       "      <td>Amazon.com</td>\n",
       "      <td>...</td>\n",
       "      <td>15.77</td>\n",
       "      <td>NaN</td>\n",
       "      <td>NaN</td>\n",
       "      <td>NaN</td>\n",
       "      <td>Tyler Richards</td>\n",
       "      <td>USD</td>\n",
       "      <td>NaN</td>\n",
       "      <td>2015</td>\n",
       "      <td>April</td>\n",
       "      <td>4</td>\n",
       "    </tr>\n",
       "    <tr>\n",
       "      <th>4</th>\n",
       "      <td>2015-06-14</td>\n",
       "      <td>002-6555782-3208237</td>\n",
       "      <td>Retro World Map Womens Quartz Wrist Watch Brown</td>\n",
       "      <td>WATCH</td>\n",
       "      <td>B00HIYT4CG</td>\n",
       "      <td>54111501.0</td>\n",
       "      <td>Amazon.com</td>\n",
       "      <td>NaN</td>\n",
       "      <td>new</td>\n",
       "      <td>hacbiwa</td>\n",
       "      <td>...</td>\n",
       "      <td>3.83</td>\n",
       "      <td>NaN</td>\n",
       "      <td>NaN</td>\n",
       "      <td>NaN</td>\n",
       "      <td>Tyler Richards</td>\n",
       "      <td>USD</td>\n",
       "      <td>NaN</td>\n",
       "      <td>2015</td>\n",
       "      <td>June</td>\n",
       "      <td>6</td>\n",
       "    </tr>\n",
       "  </tbody>\n",
       "</table>\n",
       "<p>5 rows × 39 columns</p>\n",
       "</div>"
      ],
      "text/plain": [
       "  Order Date             Order ID  \\\n",
       "0 2015-02-08  105-1540870-8791414   \n",
       "1 2015-03-09  002-7025377-8997837   \n",
       "2 2015-03-09  002-7025377-8997837   \n",
       "3 2015-04-06  002-3403333-5353051   \n",
       "4 2015-06-14  002-6555782-3208237   \n",
       "\n",
       "                                               Title          Category  \\\n",
       "0  [2Pack] iPhone Charger Cable Charge Cable 3Fee...  ELECTRONIC_CABLE   \n",
       "1  Velette Tie Clips for Men, Classic Tie Pins Se...      FASHIONOTHER   \n",
       "2                   Build-on Brick Shot Glass 4-pack      DRINKING_CUP   \n",
       "3                   Barron's AP Biology, 5th Edition         ABIS_BOOK   \n",
       "4    Retro World Map Womens Quartz Wrist Watch Brown             WATCH   \n",
       "\n",
       "    ASIN/ISBN  UNSPSC Code     Website         Release Date Condition  \\\n",
       "0  B00J46VVKE   43191600.0  Amazon.com                  NaN       new   \n",
       "1  B00KB3R748   54100000.0  Amazon.com                  NaN       new   \n",
       "2  B00K8CVPU4   56101500.0  Amazon.com                  NaN       new   \n",
       "3  1438005008   55101500.0  Amazon.com  2015-01-01T00:00:01       new   \n",
       "4  B00HIYT4CG   54111501.0  Amazon.com                  NaN       new   \n",
       "\n",
       "               Seller  ... Item Total Tax Exemption Applied  \\\n",
       "0                iXCC  ...       9.99                   NaN   \n",
       "1       Quality Stays  ...      15.95                   NaN   \n",
       "2  Blue Forest Market  ...       7.85                   NaN   \n",
       "3          Amazon.com  ...      15.77                   NaN   \n",
       "4             hacbiwa  ...       3.83                   NaN   \n",
       "\n",
       "  Tax Exemption Type  Exemption Opt-Out      Buyer Name  Currency  Group Name  \\\n",
       "0                NaN                NaN  Tyler Richards       USD         NaN   \n",
       "1                NaN                NaN  Tyler Richards       USD         NaN   \n",
       "2                NaN                NaN  Tyler Richards       USD         NaN   \n",
       "3                NaN                NaN  Tyler Richards       USD         NaN   \n",
       "4                NaN                NaN  Tyler Richards       USD         NaN   \n",
       "\n",
       "  Order Year Order Month Order Month Digit  \n",
       "0       2015    February                 2  \n",
       "1       2015       March                 3  \n",
       "2       2015       March                 3  \n",
       "3       2015       April                 4  \n",
       "4       2015        June                 6  \n",
       "\n",
       "[5 rows x 39 columns]"
      ]
     },
     "execution_count": 43,
     "metadata": {},
     "output_type": "execute_result"
    }
   ],
   "source": [
    "df_mon"
   ]
  },
  {
   "cell_type": "code",
   "execution_count": 8,
   "id": "2c29f240",
   "metadata": {},
   "outputs": [],
   "source": [
    "import statsmodels.api as sm"
   ]
  },
  {
   "cell_type": "code",
   "execution_count": 12,
   "id": "4dcf2a82",
   "metadata": {},
   "outputs": [],
   "source": [
    "df_model = df_orders_year[df_orders_year['Order Year'] != 2021]\n",
    "x = df_model['Order Year']\n",
    "y = df_model['Item Total']"
   ]
  },
  {
   "cell_type": "code",
   "execution_count": 10,
   "id": "b710fed8",
   "metadata": {},
   "outputs": [
    {
     "ename": "TypeError",
     "evalue": "append() missing 1 required positional argument: 'other'",
     "output_type": "error",
     "traceback": [
      "\u001b[0;31m---------------------------------------------------------------------------\u001b[0m",
      "\u001b[0;31mTypeError\u001b[0m                                 Traceback (most recent call last)",
      "\u001b[0;32m<ipython-input-10-a7d63174e606>\u001b[0m in \u001b[0;36m<module>\u001b[0;34m\u001b[0m\n\u001b[0;32m----> 1\u001b[0;31m \u001b[0mdf_model\u001b[0m\u001b[0;34m.\u001b[0m\u001b[0mappend\u001b[0m\u001b[0;34m(\u001b[0m\u001b[0;34m)\u001b[0m\u001b[0;34m\u001b[0m\u001b[0;34m\u001b[0m\u001b[0m\n\u001b[0m",
      "\u001b[0;31mTypeError\u001b[0m: append() missing 1 required positional argument: 'other'"
     ]
    }
   ],
   "source": [
    "df_model.append()"
   ]
  },
  {
   "cell_type": "code",
   "execution_count": 19,
   "id": "1bb6c5a3",
   "metadata": {},
   "outputs": [
    {
     "data": {
      "text/plain": [
       "array([2344.85201081])"
      ]
     },
     "execution_count": 19,
     "metadata": {},
     "output_type": "execute_result"
    }
   ],
   "source": [
    "results.predict(2050)"
   ]
  },
  {
   "cell_type": "code",
   "execution_count": 23,
   "id": "f44837d3",
   "metadata": {},
   "outputs": [
    {
     "data": {
      "text/plain": [
       "<seaborn.axisgrid.FacetGrid at 0x163ec7290>"
      ]
     },
     "execution_count": 23,
     "metadata": {},
     "output_type": "execute_result"
    },
    {
     "data": {
      "image/png": "[encoded data removed]",
      "text/plain": [
       "<Figure size 360x360 with 1 Axes>"
      ]
     },
     "metadata": {},
     "output_type": "display_data"
    }
   ],
   "source": [
    "sns.lmplot(data = df_model, x = 'Order Year', y = 'Item Total')"
   ]
  },
  {
   "cell_type": "code",
   "execution_count": 22,
   "id": "c871825f",
   "metadata": {},
   "outputs": [
    {
     "data": {
      "text/plain": [
       "0     480.93\n",
       "1     414.58\n",
       "2     701.46\n",
       "3    2255.26\n",
       "4    3868.44\n",
       "5    6115.47\n",
       "Name: Item Total, dtype: float64"
      ]
     },
     "execution_count": 22,
     "metadata": {},
     "output_type": "execute_result"
    }
   ],
   "source": [
    "y"
   ]
  },
  {
   "cell_type": "code",
   "execution_count": 1,
   "id": "2853be74",
   "metadata": {},
   "outputs": [
    {
     "ename": "ModuleNotFoundError",
     "evalue": "No module named 'statsmodels'",
     "output_type": "error",
     "traceback": [
      "\u001b[0;31m---------------------------------------------------------------------------\u001b[0m",
      "\u001b[0;31mModuleNotFoundError\u001b[0m                       Traceback (most recent call last)",
      "\u001b[0;32m<ipython-input-1-45ac93bcfff8>\u001b[0m in \u001b[0;36m<module>\u001b[0;34m\u001b[0m\n\u001b[0;32m----> 1\u001b[0;31m \u001b[0;32mimport\u001b[0m \u001b[0mstatsmodels\u001b[0m\u001b[0;34m\u001b[0m\u001b[0;34m\u001b[0m\u001b[0m\n\u001b[0m",
      "\u001b[0;31mModuleNotFoundError\u001b[0m: No module named 'statsmodels'"
     ]
    }
   ],
   "source": [
    "X = sm.add_constant(df)\n",
    "model = sm.OLS(AAPL_price['Close'],X)\n",
    "results = model.fit()\n",
    "plt.scatter(SPY_price['Close'],AAPL_price['Close'],alpha=0.3)\n",
    "y_predict = results.params[0] + results.params[1]*SPY_price['Close']\n",
    "plt.plot(SPY_price['Close'],y_predict, linewidth=3)"
   ]
  },
  {
   "cell_type": "code",
   "execution_count": 76,
   "id": "2c32708b",
   "metadata": {},
   "outputs": [],
   "source": [
    "df.to_csv('test.csv', index=False)"
   ]
  },
  {
   "cell_type": "code",
   "execution_count": 77,
   "id": "cef94e98",
   "metadata": {},
   "outputs": [
    {
     "name": "stderr",
     "output_type": "stream",
     "text": [
      "Using TensorFlow backend.\n"
     ]
    },
    {
     "name": "stdout",
     "output_type": "stream",
     "text": [
      "564 texts collected.\n",
      "Training on 236,248 character sequences.\n",
      "1845/1845 [==============================] - ETA: 0s - loss: 1.1978####################\n",
      "Temperature: 0.2\n",
      "####################\n",
      "2020-01-07,113-7874788-8127972,\"The Shipped,USPS(936128960009000009486),$11.99,$0.00,7.99,,,,Tyler Richards,USD,,2019,January,1\n",
      "\n",
      "2020-01-01,111-8676896-0442446,\"Good Shoester String Pack for Slim Free Stret Stretch Stand - Anti-Fram Stretch String String String - Anker for Stretch Stretch Stretcha Shipping Shipping Store Card - 100 Protectorder Stripper Stret Strip Size with Stretcha Stretcha Shoes for Stretchal Stretcha Sho\n",
      "\n",
      "2020-01-01,113-7888489-4862186,\"Hid10866, Bag - 10 Stret Stain Card - 3 Stret Stretch Shipping Stret Shoes for String String String Stand - Anker Shoesel For Stretchalical Stripper,LEANTHITS,B07NTBMSMM,53100000.0,Amazon.com,,new,Amazon.com,12601,Shipped,USPS(9361289690000000990495),$11.99,$0.00,16.\n",
      "\n",
      "####################\n",
      "Temperature: 0.5\n",
      "####################\n",
      "2018-03-07,111-7036369-4307116,\"Amazon Stretch Shoes Bags of for Stee Stret Spiral Shoesn of the Tool Kitchen White Family Stand Thind Cut Stretch Slim The Snow Shipping Size Chain Time Skin Pack of for Slim Front Card - Anken Spiral Strip - APT 2, 18TH ST APT 2,,B0767,17751,STO,B079NNLS,53100000.0\n",
      "\n",
      "2020-01-01,113-9870780-6366658,\"Green Guide for Kitchen Bathroom Pack Curtifier Inch Shipped,AMZN_US(TBA0080000000),$8.00,$0.00,20.99,,,,Tyler Richards,USD,,2019,New,Amazon.com,,$119.00,$11.99,1,Amazon.com Store Card - 9015,,,tylerjrichards@gmail.com,04/07/19,Tyler Richards,1316 ALABAMA ST APT A,,S\n",
      "\n",
      "2020-03-01,112-7727796-8962218,\"Near Flow Shipping Sheets - 106 Protectment Men with 1 Pack for Curtifical Travel Expaid Striper Receised Sleeping Books for Matte Shiop Shoester,UND,5510000000.0,Amazon.com,,new,Amazon.com,,$10.00,$229.99,1,Amazon.com Store Card - 9015,,,tylerjrichards@gmail.com,09/\n",
      "\n",
      "####################\n",
      "Temperature: 1.0\n",
      "####################\n",
      "2019-01-27,113-9489826-2901154,Tenvens Cauppelats, Swippec,DURYN_MOONTORY,B0105NGQ86,TLETIAN,B00NYV357WR,5312122600.0,Amazon.com,,new,CHARPS(958089385627)\",ABIS_BOOK,033458967355551.0 inch on Grazon 12 Case and Stret For the Sharge\",WALSIN_BOOK,B07M69SY267,52161600.0,Amazon.com,,new,IPT,1120566,511\n",
      "\n",
      "2020-01-06,211-1370558-0878644-FILL Ozhishe with 3 Kystem Spidea New Saiblest Twispalt Dad to Liptob, 31x witch SIN,B Gold,LAGEDLATCLI,1511183666,55101500.0,Amazon.com,00000000.0,Apple,LANSTST,B08,A7B5J79570DV8552,63121500.0,Amazon.com,,new,Amcolizeu Black Katic Torp in AvE pant,emizersen\",Shipped,\n",
      "\n",
      "2017-03-22,112-0812552-4368858,\"Villati Quucket Certi - Oragax - 22 uple,B007.8KY,FL,32803-87T0000,Amazon.com,,$11,9899.00,$229.99,1,Amazon.com,002006-8511630866,ABIS_01 ST US(TBAOKW,GAINGIHER),ONLLE,B076FT,9511-41155\n",
      "\n",
      "1845/1845 [==============================] - 270s 146ms/step - loss: 1.1978 - lr: 0.0040\n"
     ]
    }
   ],
   "source": [
    "from textgenrnn import textgenrnn\n",
    "textgen = textgenrnn()\n",
    "textgen.train_from_file('test.csv', num_epochs=1)"
   ]
  },
  {
   "cell_type": "code",
   "execution_count": 72,
   "id": "ef80da48",
   "metadata": {},
   "outputs": [
    {
     "name": "stdout",
     "output_type": "stream",
     "text": [
      "ELEC_CAUL_BAG\n",
      "\n"
     ]
    }
   ],
   "source": [
    "textgen.generate()"
   ]
  },
  {
   "cell_type": "code",
   "execution_count": 13,
   "id": "b4bfc8dd",
   "metadata": {},
   "outputs": [
    {
     "data": {
      "text/plain": [
       "ABIS_BOOK               66\n",
       "PANTS                   23\n",
       "SHORTS                  15\n",
       "WATCH                   13\n",
       "CONDOM                  12\n",
       "HAIR_STYLING_AGENT      11\n",
       "GROCERY                 11\n",
       "HEALTH_PERSONAL_CARE    10\n",
       "STORAGE_HOOK             9\n",
       "SOCKS                    9\n",
       "Name: Category, dtype: int64"
      ]
     },
     "execution_count": 13,
     "metadata": {},
     "output_type": "execute_result"
    }
   ],
   "source": [
    "df['Category'].value_counts().head(10)"
   ]
  },
  {
   "cell_type": "code",
   "execution_count": 14,
   "id": "384a55d0",
   "metadata": {},
   "outputs": [],
   "source": [
    "df_cities = pd.DataFrame(df['Shipping Address City'].str.upper().value_counts()).reset_index()\n",
    "df_cities.columns = ['City', 'Order Count']"
   ]
  },
  {
   "cell_type": "code",
   "execution_count": 15,
   "id": "9ae55c77",
   "metadata": {},
   "outputs": [
    {
     "data": {
      "text/html": [
       "<div>\n",
       "<style scoped>\n",
       "    .dataframe tbody tr th:only-of-type {\n",
       "        vertical-align: middle;\n",
       "    }\n",
       "\n",
       "    .dataframe tbody tr th {\n",
       "        vertical-align: top;\n",
       "    }\n",
       "\n",
       "    .dataframe thead th {\n",
       "        text-align: right;\n",
       "    }\n",
       "</style>\n",
       "<table border=\"1\" class=\"dataframe\">\n",
       "  <thead>\n",
       "    <tr style=\"text-align: right;\">\n",
       "      <th></th>\n",
       "      <th>Category</th>\n",
       "      <th>Purchase Count</th>\n",
       "    </tr>\n",
       "  </thead>\n",
       "  <tbody>\n",
       "    <tr>\n",
       "      <th>0</th>\n",
       "      <td>ABIS_BOOK</td>\n",
       "      <td>66</td>\n",
       "    </tr>\n",
       "    <tr>\n",
       "      <th>117</th>\n",
       "      <td>PANTS</td>\n",
       "      <td>23</td>\n",
       "    </tr>\n",
       "    <tr>\n",
       "      <th>145</th>\n",
       "      <td>SHORTS</td>\n",
       "      <td>15</td>\n",
       "    </tr>\n",
       "    <tr>\n",
       "      <th>187</th>\n",
       "      <td>WATCH</td>\n",
       "      <td>13</td>\n",
       "    </tr>\n",
       "    <tr>\n",
       "      <th>45</th>\n",
       "      <td>CONDOM</td>\n",
       "      <td>12</td>\n",
       "    </tr>\n",
       "    <tr>\n",
       "      <th>77</th>\n",
       "      <td>GROCERY</td>\n",
       "      <td>11</td>\n",
       "    </tr>\n",
       "    <tr>\n",
       "      <th>81</th>\n",
       "      <td>HAIR_STYLING_AGENT</td>\n",
       "      <td>11</td>\n",
       "    </tr>\n",
       "    <tr>\n",
       "      <th>86</th>\n",
       "      <td>HEALTH_PERSONAL_CARE</td>\n",
       "      <td>10</td>\n",
       "    </tr>\n",
       "    <tr>\n",
       "      <th>162</th>\n",
       "      <td>STORAGE_HOOK</td>\n",
       "      <td>9</td>\n",
       "    </tr>\n",
       "    <tr>\n",
       "      <th>154</th>\n",
       "      <td>SOCKS</td>\n",
       "      <td>9</td>\n",
       "    </tr>\n",
       "    <tr>\n",
       "      <th>144</th>\n",
       "      <td>SHOES</td>\n",
       "      <td>8</td>\n",
       "    </tr>\n",
       "    <tr>\n",
       "      <th>142</th>\n",
       "      <td>SHIRT</td>\n",
       "      <td>8</td>\n",
       "    </tr>\n",
       "    <tr>\n",
       "      <th>111</th>\n",
       "      <td>NECKLACE</td>\n",
       "      <td>7</td>\n",
       "    </tr>\n",
       "    <tr>\n",
       "      <th>9</th>\n",
       "      <td>AREA_DEODORIZER</td>\n",
       "      <td>6</td>\n",
       "    </tr>\n",
       "    <tr>\n",
       "      <th>85</th>\n",
       "      <td>HEADPHONES</td>\n",
       "      <td>6</td>\n",
       "    </tr>\n",
       "  </tbody>\n",
       "</table>\n",
       "</div>"
      ],
      "text/plain": [
       "                 Category  Purchase Count\n",
       "0               ABIS_BOOK              66\n",
       "117                 PANTS              23\n",
       "145                SHORTS              15\n",
       "187                 WATCH              13\n",
       "45                 CONDOM              12\n",
       "77                GROCERY              11\n",
       "81     HAIR_STYLING_AGENT              11\n",
       "86   HEALTH_PERSONAL_CARE              10\n",
       "162          STORAGE_HOOK               9\n",
       "154                 SOCKS               9\n",
       "144                 SHOES               8\n",
       "142                 SHIRT               8\n",
       "111              NECKLACE               7\n",
       "9         AREA_DEODORIZER               6\n",
       "85             HEADPHONES               6"
      ]
     },
     "execution_count": 15,
     "metadata": {},
     "output_type": "execute_result"
    }
   ],
   "source": [
    "df_cat = df.groupby(['Category']).count()['Order Date'].reset_index()\n",
    "df_cat.columns = ['Category', 'Purchase Count']\n",
    "df_cat.sort_values(by='Purchase Count', ascending=False, inplace=True)\n",
    "df_cat = df_cat.head(15)\n",
    "df_cat"
   ]
  },
  {
   "cell_type": "code",
   "execution_count": null,
   "id": "159ed6e0",
   "metadata": {},
   "outputs": [],
   "source": []
  },
  {
   "cell_type": "code",
   "execution_count": null,
   "id": "809461a4",
   "metadata": {},
   "outputs": [],
   "source": []
  },
  {
   "cell_type": "code",
   "execution_count": 16,
   "id": "70c68190",
   "metadata": {},
   "outputs": [
    {
     "ename": "NameError",
     "evalue": "name 'Figure' is not defined",
     "output_type": "error",
     "traceback": [
      "\u001b[0;31m---------------------------------------------------------------------------\u001b[0m",
      "\u001b[0;31mNameError\u001b[0m                                 Traceback (most recent call last)",
      "\u001b[0;32m<ipython-input-16-7882caf03548>\u001b[0m in \u001b[0;36m<module>\u001b[0;34m\u001b[0m\n\u001b[0;32m----> 1\u001b[0;31m \u001b[0mfig_cat\u001b[0m \u001b[0;34m=\u001b[0m \u001b[0mFigure\u001b[0m\u001b[0;34m(\u001b[0m\u001b[0;34m)\u001b[0m\u001b[0;34m\u001b[0m\u001b[0;34m\u001b[0m\u001b[0m\n\u001b[0m\u001b[1;32m      2\u001b[0m \u001b[0max_cat\u001b[0m \u001b[0;34m=\u001b[0m \u001b[0mfig_cat\u001b[0m\u001b[0;34m.\u001b[0m\u001b[0msubplots\u001b[0m\u001b[0;34m(\u001b[0m\u001b[0;34m)\u001b[0m\u001b[0;34m\u001b[0m\u001b[0;34m\u001b[0m\u001b[0m\n\u001b[1;32m      3\u001b[0m sns.barplot(data = df_cat, palette='viridis', \n\u001b[1;32m      4\u001b[0m \tx = 'Category', y = 'Purchase Count', ax=ax_cat)\n\u001b[1;32m      5\u001b[0m \u001b[0max_cat\u001b[0m\u001b[0;34m.\u001b[0m\u001b[0mset_xticklabels\u001b[0m\u001b[0;34m(\u001b[0m\u001b[0mdf_cat\u001b[0m\u001b[0;34m[\u001b[0m\u001b[0;34m'Category'\u001b[0m\u001b[0;34m]\u001b[0m\u001b[0;34m,\u001b[0m \u001b[0mrotation\u001b[0m\u001b[0;34m=\u001b[0m\u001b[0;36m45\u001b[0m\u001b[0;34m)\u001b[0m\u001b[0;34m\u001b[0m\u001b[0;34m\u001b[0m\u001b[0m\n",
      "\u001b[0;31mNameError\u001b[0m: name 'Figure' is not defined"
     ]
    }
   ],
   "source": [
    "\n",
    "fig_cat = Figure()\n",
    "ax_cat = fig_cat.subplots()\n",
    "sns.barplot(data = df_cat, palette='viridis', \n",
    "\tx = 'Category', y = 'Purchase Count', ax=ax_cat)\n",
    "ax_cat.set_xticklabels(df_cat['Category'], rotation=45)\n",
    "ax_cat.set_title('Top 15 Purchase Categories')\n",
    "ax_cat.set_ylabel('Purchase Count')\n",
    "fig_cat"
   ]
  },
  {
   "cell_type": "code",
   "execution_count": 17,
   "id": "75a5c797",
   "metadata": {},
   "outputs": [],
   "source": [
    "from matplotlib.figure import Figure"
   ]
  },
  {
   "cell_type": "code",
   "execution_count": 18,
   "id": "6e9a8d9a",
   "metadata": {},
   "outputs": [
    {
     "data": {
      "text/plain": [
       "[Text(0, 0, 'SAN FRANCISCO'),\n",
       " Text(1, 0, 'GAINESVILLE'),\n",
       " Text(2, 0, 'CINCINNATI'),\n",
       " Text(3, 0, 'BROOKLYN'),\n",
       " Text(4, 0, 'ORLANDO'),\n",
       " Text(5, 0, 'MENLO PARK'),\n",
       " Text(6, 0, 'INDIALANTIC'),\n",
       " Text(7, 0, 'REDWOOD CITY'),\n",
       " Text(8, 0, 'NEDERLAND'),\n",
       " Text(9, 0, 'TALLAHASSEE'),\n",
       " Text(10, 0, 'HOUSTON'),\n",
       " Text(11, 0, 'DURHAM'),\n",
       " Text(12, 0, 'MCLEAN'),\n",
       " Text(13, 0, 'SAINT LOUIS')]"
      ]
     },
     "execution_count": 18,
     "metadata": {},
     "output_type": "execute_result"
    }
   ],
   "source": [
    "fig_cities = Figure()\n",
    "ax_cities = fig_cities.subplots()\n",
    "sns.barplot(data = df_cities, palette='viridis', x='City', y='Order Count', ax=ax_cities)\n",
    "ax_cities.set_xticklabels(df_cities['City'], rotation=45)\n"
   ]
  },
  {
   "cell_type": "code",
   "execution_count": null,
   "id": "7ac34a32",
   "metadata": {},
   "outputs": [],
   "source": [
    "#other ideas\n",
    "#number of orders over time"
   ]
  },
  {
   "cell_type": "code",
   "execution_count": 19,
   "id": "a0792090",
   "metadata": {},
   "outputs": [],
   "source": [
    "df_copy = df.copy()\n",
    "df_copy.set_index('Order Date', inplace=True)"
   ]
  },
  {
   "cell_type": "code",
   "execution_count": 20,
   "id": "382b1ec3",
   "metadata": {},
   "outputs": [],
   "source": [
    "df_month_date = pd.DataFrame(df_copy.resample('1M').count()['Order ID']).reset_index()\n",
    "df_month_date.columns = ['date', 'count']"
   ]
  },
  {
   "cell_type": "code",
   "execution_count": 21,
   "id": "5f5a6eb3",
   "metadata": {},
   "outputs": [
    {
     "data": {
      "text/html": [
       "<div>\n",
       "<style scoped>\n",
       "    .dataframe tbody tr th:only-of-type {\n",
       "        vertical-align: middle;\n",
       "    }\n",
       "\n",
       "    .dataframe tbody tr th {\n",
       "        vertical-align: top;\n",
       "    }\n",
       "\n",
       "    .dataframe thead th {\n",
       "        text-align: right;\n",
       "    }\n",
       "</style>\n",
       "<table border=\"1\" class=\"dataframe\">\n",
       "  <thead>\n",
       "    <tr style=\"text-align: right;\">\n",
       "      <th></th>\n",
       "      <th>date</th>\n",
       "      <th>count</th>\n",
       "    </tr>\n",
       "  </thead>\n",
       "  <tbody>\n",
       "    <tr>\n",
       "      <th>0</th>\n",
       "      <td>2015-02-28</td>\n",
       "      <td>1</td>\n",
       "    </tr>\n",
       "    <tr>\n",
       "      <th>1</th>\n",
       "      <td>2015-03-31</td>\n",
       "      <td>2</td>\n",
       "    </tr>\n",
       "    <tr>\n",
       "      <th>2</th>\n",
       "      <td>2015-04-30</td>\n",
       "      <td>1</td>\n",
       "    </tr>\n",
       "    <tr>\n",
       "      <th>3</th>\n",
       "      <td>2015-05-31</td>\n",
       "      <td>0</td>\n",
       "    </tr>\n",
       "    <tr>\n",
       "      <th>4</th>\n",
       "      <td>2015-06-30</td>\n",
       "      <td>5</td>\n",
       "    </tr>\n",
       "    <tr>\n",
       "      <th>...</th>\n",
       "      <td>...</td>\n",
       "      <td>...</td>\n",
       "    </tr>\n",
       "    <tr>\n",
       "      <th>70</th>\n",
       "      <td>2020-12-31</td>\n",
       "      <td>27</td>\n",
       "    </tr>\n",
       "    <tr>\n",
       "      <th>71</th>\n",
       "      <td>2021-01-31</td>\n",
       "      <td>35</td>\n",
       "    </tr>\n",
       "    <tr>\n",
       "      <th>72</th>\n",
       "      <td>2021-02-28</td>\n",
       "      <td>18</td>\n",
       "    </tr>\n",
       "    <tr>\n",
       "      <th>73</th>\n",
       "      <td>2021-03-31</td>\n",
       "      <td>9</td>\n",
       "    </tr>\n",
       "    <tr>\n",
       "      <th>74</th>\n",
       "      <td>2021-04-30</td>\n",
       "      <td>16</td>\n",
       "    </tr>\n",
       "  </tbody>\n",
       "</table>\n",
       "<p>75 rows × 2 columns</p>\n",
       "</div>"
      ],
      "text/plain": [
       "         date  count\n",
       "0  2015-02-28      1\n",
       "1  2015-03-31      2\n",
       "2  2015-04-30      1\n",
       "3  2015-05-31      0\n",
       "4  2015-06-30      5\n",
       "..        ...    ...\n",
       "70 2020-12-31     27\n",
       "71 2021-01-31     35\n",
       "72 2021-02-28     18\n",
       "73 2021-03-31      9\n",
       "74 2021-04-30     16\n",
       "\n",
       "[75 rows x 2 columns]"
      ]
     },
     "execution_count": 21,
     "metadata": {},
     "output_type": "execute_result"
    }
   ],
   "source": [
    "df_month_date"
   ]
  },
  {
   "cell_type": "code",
   "execution_count": null,
   "id": "c499c9d8",
   "metadata": {},
   "outputs": [],
   "source": []
  },
  {
   "cell_type": "code",
   "execution_count": 22,
   "id": "4b8683fd",
   "metadata": {},
   "outputs": [
    {
     "data": {
      "text/plain": [
       "Text(0.5, 1.0, 'Amazon Purchases Over Time')"
      ]
     },
     "execution_count": 22,
     "metadata": {},
     "output_type": "execute_result"
    },
    {
     "data": {
      "image/png": "[encoded data removed]",
      "text/plain": [
       "<Figure size 432x288 with 1 Axes>"
      ]
     },
     "metadata": {},
     "output_type": "display_data"
    }
   ],
   "source": [
    "sns.lineplot(data = df_month_date, x = 'date', y = 'count', palette='viridis')\n",
    "sns.set_style('darkgrid')\n",
    "plt.ylabel('Purchase Count')\n",
    "plt.xlabel('Date')\n",
    "plt.title('Amazon Purchases Over Time')"
   ]
  },
  {
   "cell_type": "code",
   "execution_count": null,
   "id": "4ff8c645",
   "metadata": {},
   "outputs": [],
   "source": [
    "#prediction"
   ]
  },
  {
   "cell_type": "code",
   "execution_count": 23,
   "id": "e3129e09",
   "metadata": {},
   "outputs": [
    {
     "name": "stdout",
     "output_type": "stream",
     "text": [
      "11.436731334384607\n"
     ]
    }
   ],
   "source": [
    "# MA example\n",
    "from statsmodels.tsa.arima.model import ARIMA\n",
    "from random import random\n",
    "# contrived dataset\n",
    "data = list(df_month_date['count'])\n",
    "# fit model\n",
    "model = ARIMA(data, order=(0, 0, 1))\n",
    "model_fit = model.fit()\n",
    "# make prediction\n",
    "yhat = model_fit.predict(len(data), len(data))\n",
    "print(yhat[0])"
   ]
  },
  {
   "cell_type": "code",
   "execution_count": null,
   "id": "974d756a",
   "metadata": {},
   "outputs": [],
   "source": []
  },
  {
   "cell_type": "code",
   "execution_count": null,
   "id": "03b4aae0",
   "metadata": {},
   "outputs": [],
   "source": []
  },
  {
   "cell_type": "code",
   "execution_count": 24,
   "id": "e9dc7dc1",
   "metadata": {},
   "outputs": [],
   "source": [
    "df['month_period'] = df['Order Date'].dt.to_period('M')"
   ]
  },
  {
   "cell_type": "code",
   "execution_count": 25,
   "id": "efd07465",
   "metadata": {},
   "outputs": [],
   "source": [
    "df_month_period = pd.DataFrame(df.groupby('month_period')['Order Date'].count()).reset_index()\n",
    "df_month_period.columns = ['month_period', 'count']"
   ]
  },
  {
   "cell_type": "code",
   "execution_count": 26,
   "id": "6d886c01",
   "metadata": {},
   "outputs": [
    {
     "data": {
      "text/plain": [
       "Period('2015-02', 'M')"
      ]
     },
     "execution_count": 26,
     "metadata": {},
     "output_type": "execute_result"
    }
   ],
   "source": [
    "df_month_period['month_period'][0]"
   ]
  },
  {
   "cell_type": "code",
   "execution_count": 28,
   "id": "fe4de65d",
   "metadata": {},
   "outputs": [
    {
     "data": {
      "text/plain": [
       "2020    154\n",
       "2019    151\n",
       "2018    110\n",
       "2021     78\n",
       "2017     41\n",
       "2015     19\n",
       "2016     11\n",
       "Name: Order Year, dtype: int64"
      ]
     },
     "execution_count": 28,
     "metadata": {},
     "output_type": "execute_result"
    }
   ],
   "source": [
    "df['Order Year'].value_counts()"
   ]
  },
  {
   "cell_type": "code",
   "execution_count": 29,
   "id": "f9216538",
   "metadata": {},
   "outputs": [
    {
     "data": {
      "text/html": [
       "<div>\n",
       "<style scoped>\n",
       "    .dataframe tbody tr th:only-of-type {\n",
       "        vertical-align: middle;\n",
       "    }\n",
       "\n",
       "    .dataframe tbody tr th {\n",
       "        vertical-align: top;\n",
       "    }\n",
       "\n",
       "    .dataframe thead th {\n",
       "        text-align: right;\n",
       "    }\n",
       "</style>\n",
       "<table border=\"1\" class=\"dataframe\">\n",
       "  <thead>\n",
       "    <tr style=\"text-align: right;\">\n",
       "      <th></th>\n",
       "      <th>Month</th>\n",
       "      <th>Month_digit</th>\n",
       "      <th>Order_count</th>\n",
       "    </tr>\n",
       "  </thead>\n",
       "  <tbody>\n",
       "    <tr>\n",
       "      <th>0</th>\n",
       "      <td>April</td>\n",
       "      <td>4</td>\n",
       "      <td>42</td>\n",
       "    </tr>\n",
       "    <tr>\n",
       "      <th>1</th>\n",
       "      <td>August</td>\n",
       "      <td>8</td>\n",
       "      <td>65</td>\n",
       "    </tr>\n",
       "    <tr>\n",
       "      <th>2</th>\n",
       "      <td>December</td>\n",
       "      <td>12</td>\n",
       "      <td>45</td>\n",
       "    </tr>\n",
       "    <tr>\n",
       "      <th>3</th>\n",
       "      <td>February</td>\n",
       "      <td>2</td>\n",
       "      <td>42</td>\n",
       "    </tr>\n",
       "    <tr>\n",
       "      <th>4</th>\n",
       "      <td>January</td>\n",
       "      <td>1</td>\n",
       "      <td>94</td>\n",
       "    </tr>\n",
       "    <tr>\n",
       "      <th>5</th>\n",
       "      <td>July</td>\n",
       "      <td>7</td>\n",
       "      <td>37</td>\n",
       "    </tr>\n",
       "    <tr>\n",
       "      <th>6</th>\n",
       "      <td>June</td>\n",
       "      <td>6</td>\n",
       "      <td>35</td>\n",
       "    </tr>\n",
       "    <tr>\n",
       "      <th>7</th>\n",
       "      <td>March</td>\n",
       "      <td>3</td>\n",
       "      <td>34</td>\n",
       "    </tr>\n",
       "    <tr>\n",
       "      <th>8</th>\n",
       "      <td>May</td>\n",
       "      <td>5</td>\n",
       "      <td>44</td>\n",
       "    </tr>\n",
       "    <tr>\n",
       "      <th>9</th>\n",
       "      <td>November</td>\n",
       "      <td>11</td>\n",
       "      <td>28</td>\n",
       "    </tr>\n",
       "    <tr>\n",
       "      <th>10</th>\n",
       "      <td>October</td>\n",
       "      <td>10</td>\n",
       "      <td>48</td>\n",
       "    </tr>\n",
       "    <tr>\n",
       "      <th>11</th>\n",
       "      <td>September</td>\n",
       "      <td>9</td>\n",
       "      <td>50</td>\n",
       "    </tr>\n",
       "  </tbody>\n",
       "</table>\n",
       "</div>"
      ],
      "text/plain": [
       "        Month  Month_digit  Order_count\n",
       "0       April            4           42\n",
       "1      August            8           65\n",
       "2    December           12           45\n",
       "3    February            2           42\n",
       "4     January            1           94\n",
       "5        July            7           37\n",
       "6        June            6           35\n",
       "7       March            3           34\n",
       "8         May            5           44\n",
       "9    November           11           28\n",
       "10    October           10           48\n",
       "11  September            9           50"
      ]
     },
     "execution_count": 29,
     "metadata": {},
     "output_type": "execute_result"
    }
   ],
   "source": [
    "df_month = df.groupby(['Order Month', 'Order Month Digit']).count()['Order Date'].reset_index()\n",
    "df_month.columns = ['Month', 'Month_digit', 'Order_count']\n",
    "df_month"
   ]
  },
  {
   "cell_type": "code",
   "execution_count": 30,
   "id": "8a315a97",
   "metadata": {},
   "outputs": [],
   "source": [
    "df_month.sort_values(by = 'Month_digit', inplace=True)"
   ]
  },
  {
   "cell_type": "code",
   "execution_count": 31,
   "id": "0fe1b84f",
   "metadata": {},
   "outputs": [
    {
     "data": {
      "text/plain": [
       "(array([ 0,  1,  2,  3,  4,  5,  6,  7,  8,  9, 10, 11]),\n",
       " [Text(0, 0, 'January'),\n",
       "  Text(1, 0, 'February'),\n",
       "  Text(2, 0, 'March'),\n",
       "  Text(3, 0, 'April'),\n",
       "  Text(4, 0, 'May'),\n",
       "  Text(5, 0, 'June'),\n",
       "  Text(6, 0, 'July'),\n",
       "  Text(7, 0, 'August'),\n",
       "  Text(8, 0, 'September'),\n",
       "  Text(9, 0, 'October'),\n",
       "  Text(10, 0, 'November'),\n",
       "  Text(11, 0, 'December')])"
      ]
     },
     "execution_count": 31,
     "metadata": {},
     "output_type": "execute_result"
    },
    {
     "data": {
      "image/png": "[encoded data removed]",
      "text/plain": [
       "<Figure size 432x288 with 1 Axes>"
      ]
     },
     "metadata": {},
     "output_type": "display_data"
    }
   ],
   "source": [
    "sns.barplot(data = df_month, x = 'Month', y = 'Order_count')\n",
    "plt.xticks(rotation=45)"
   ]
  },
  {
   "cell_type": "code",
   "execution_count": 33,
   "id": "b9897673",
   "metadata": {},
   "outputs": [
    {
     "data": {
      "text/html": [
       "<div>\n",
       "<style scoped>\n",
       "    .dataframe tbody tr th:only-of-type {\n",
       "        vertical-align: middle;\n",
       "    }\n",
       "\n",
       "    .dataframe tbody tr th {\n",
       "        vertical-align: top;\n",
       "    }\n",
       "\n",
       "    .dataframe thead th {\n",
       "        text-align: right;\n",
       "    }\n",
       "</style>\n",
       "<table border=\"1\" class=\"dataframe\">\n",
       "  <thead>\n",
       "    <tr style=\"text-align: right;\">\n",
       "      <th></th>\n",
       "      <th>Month</th>\n",
       "      <th>Month_digit</th>\n",
       "      <th>Order_count</th>\n",
       "    </tr>\n",
       "  </thead>\n",
       "  <tbody>\n",
       "    <tr>\n",
       "      <th>9</th>\n",
       "      <td>November</td>\n",
       "      <td>11</td>\n",
       "      <td>28</td>\n",
       "    </tr>\n",
       "    <tr>\n",
       "      <th>7</th>\n",
       "      <td>March</td>\n",
       "      <td>3</td>\n",
       "      <td>34</td>\n",
       "    </tr>\n",
       "    <tr>\n",
       "      <th>6</th>\n",
       "      <td>June</td>\n",
       "      <td>6</td>\n",
       "      <td>35</td>\n",
       "    </tr>\n",
       "    <tr>\n",
       "      <th>5</th>\n",
       "      <td>July</td>\n",
       "      <td>7</td>\n",
       "      <td>37</td>\n",
       "    </tr>\n",
       "    <tr>\n",
       "      <th>3</th>\n",
       "      <td>February</td>\n",
       "      <td>2</td>\n",
       "      <td>42</td>\n",
       "    </tr>\n",
       "    <tr>\n",
       "      <th>0</th>\n",
       "      <td>April</td>\n",
       "      <td>4</td>\n",
       "      <td>42</td>\n",
       "    </tr>\n",
       "    <tr>\n",
       "      <th>8</th>\n",
       "      <td>May</td>\n",
       "      <td>5</td>\n",
       "      <td>44</td>\n",
       "    </tr>\n",
       "    <tr>\n",
       "      <th>2</th>\n",
       "      <td>December</td>\n",
       "      <td>12</td>\n",
       "      <td>45</td>\n",
       "    </tr>\n",
       "    <tr>\n",
       "      <th>10</th>\n",
       "      <td>October</td>\n",
       "      <td>10</td>\n",
       "      <td>48</td>\n",
       "    </tr>\n",
       "    <tr>\n",
       "      <th>11</th>\n",
       "      <td>September</td>\n",
       "      <td>9</td>\n",
       "      <td>50</td>\n",
       "    </tr>\n",
       "    <tr>\n",
       "      <th>1</th>\n",
       "      <td>August</td>\n",
       "      <td>8</td>\n",
       "      <td>65</td>\n",
       "    </tr>\n",
       "    <tr>\n",
       "      <th>4</th>\n",
       "      <td>January</td>\n",
       "      <td>1</td>\n",
       "      <td>94</td>\n",
       "    </tr>\n",
       "  </tbody>\n",
       "</table>\n",
       "</div>"
      ],
      "text/plain": [
       "        Month  Month_digit  Order_count\n",
       "9    November           11           28\n",
       "7       March            3           34\n",
       "6        June            6           35\n",
       "5        July            7           37\n",
       "3    February            2           42\n",
       "0       April            4           42\n",
       "8         May            5           44\n",
       "2    December           12           45\n",
       "10    October           10           48\n",
       "11  September            9           50\n",
       "1      August            8           65\n",
       "4     January            1           94"
      ]
     },
     "execution_count": 33,
     "metadata": {},
     "output_type": "execute_result"
    }
   ],
   "source": [
    "df_month.sort_values(by='Order_count').head(-1)"
   ]
  },
  {
   "cell_type": "code",
   "execution_count": 15,
   "id": "a6d198f3",
   "metadata": {},
   "outputs": [
    {
     "data": {
      "text/html": [
       "<div>\n",
       "<style scoped>\n",
       "    .dataframe tbody tr th:only-of-type {\n",
       "        vertical-align: middle;\n",
       "    }\n",
       "\n",
       "    .dataframe tbody tr th {\n",
       "        vertical-align: top;\n",
       "    }\n",
       "\n",
       "    .dataframe thead th {\n",
       "        text-align: right;\n",
       "    }\n",
       "</style>\n",
       "<table border=\"1\" class=\"dataframe\">\n",
       "  <thead>\n",
       "    <tr style=\"text-align: right;\">\n",
       "      <th></th>\n",
       "      <th>index</th>\n",
       "      <th>Title</th>\n",
       "    </tr>\n",
       "  </thead>\n",
       "  <tbody>\n",
       "    <tr>\n",
       "      <th>0</th>\n",
       "      <td>Trojan Condom Sensitivity Ultra Thin Spermicid...</td>\n",
       "      <td>9</td>\n",
       "    </tr>\n",
       "    <tr>\n",
       "      <th>1</th>\n",
       "      <td>Amazon Brand - Goodthreads Men's Slim-Fit 9\" I...</td>\n",
       "      <td>7</td>\n",
       "    </tr>\n",
       "    <tr>\n",
       "      <th>2</th>\n",
       "      <td>U.S. Polo Assn. Men's Corduroy Pant</td>\n",
       "      <td>5</td>\n",
       "    </tr>\n",
       "    <tr>\n",
       "      <th>3</th>\n",
       "      <td>Amazon Brand - Goodthreads Men's 7\" Inseam Com...</td>\n",
       "      <td>4</td>\n",
       "    </tr>\n",
       "    <tr>\n",
       "      <th>4</th>\n",
       "      <td>Layrite Natural Matte Cream, Basic, White, Mil...</td>\n",
       "      <td>3</td>\n",
       "    </tr>\n",
       "    <tr>\n",
       "      <th>5</th>\n",
       "      <td>Van Heusen Men's Traveler Slim Fit Pant, Taupe...</td>\n",
       "      <td>2</td>\n",
       "    </tr>\n",
       "    <tr>\n",
       "      <th>6</th>\n",
       "      <td>Burt’s Bees 100% Natural Overnight Intensive L...</td>\n",
       "      <td>2</td>\n",
       "    </tr>\n",
       "    <tr>\n",
       "      <th>7</th>\n",
       "      <td>Penn Championship Tennis Balls - Extra Duty Fe...</td>\n",
       "      <td>2</td>\n",
       "    </tr>\n",
       "    <tr>\n",
       "      <th>8</th>\n",
       "      <td>DWCN Light Grey Blackout Curtains - Room Darke...</td>\n",
       "      <td>2</td>\n",
       "    </tr>\n",
       "    <tr>\n",
       "      <th>9</th>\n",
       "      <td>Nespresso Capsules OriginalLine, Ispirazione V...</td>\n",
       "      <td>2</td>\n",
       "    </tr>\n",
       "  </tbody>\n",
       "</table>\n",
       "</div>"
      ],
      "text/plain": [
       "                                               index  Title\n",
       "0  Trojan Condom Sensitivity Ultra Thin Spermicid...      9\n",
       "1  Amazon Brand - Goodthreads Men's Slim-Fit 9\" I...      7\n",
       "2                U.S. Polo Assn. Men's Corduroy Pant      5\n",
       "3  Amazon Brand - Goodthreads Men's 7\" Inseam Com...      4\n",
       "4  Layrite Natural Matte Cream, Basic, White, Mil...      3\n",
       "5  Van Heusen Men's Traveler Slim Fit Pant, Taupe...      2\n",
       "6  Burt’s Bees 100% Natural Overnight Intensive L...      2\n",
       "7  Penn Championship Tennis Balls - Extra Duty Fe...      2\n",
       "8  DWCN Light Grey Blackout Curtains - Room Darke...      2\n",
       "9  Nespresso Capsules OriginalLine, Ispirazione V...      2"
      ]
     },
     "execution_count": 15,
     "metadata": {},
     "output_type": "execute_result"
    }
   ],
   "source": [
    "pd.DataFrame(df['Title'].value_counts().head(10)).reset_index()"
   ]
  },
  {
   "cell_type": "code",
   "execution_count": 16,
   "id": "21f75a74",
   "metadata": {},
   "outputs": [
    {
     "data": {
      "text/plain": [
       "Index(['Order Date', 'Order ID', 'Title', 'Category', 'ASIN/ISBN',\n",
       "       'UNSPSC Code', 'Website', 'Release Date', 'Condition', 'Seller',\n",
       "       'Seller Credentials', 'List Price Per Unit', 'Purchase Price Per Unit',\n",
       "       'Quantity', 'Payment Instrument Type', 'Purchase Order Number',\n",
       "       'PO Line Number', 'Ordering Customer Email', 'Shipment Date',\n",
       "       'Shipping Address Name', 'Shipping Address Street 1',\n",
       "       'Shipping Address Street 2', 'Shipping Address City',\n",
       "       'Shipping Address State', 'Shipping Address Zip', 'Order Status',\n",
       "       'Carrier Name & Tracking Number', 'Item Subtotal', 'Item Subtotal Tax',\n",
       "       'Item Total', 'Tax Exemption Applied', 'Tax Exemption Type',\n",
       "       'Exemption Opt-Out', 'Buyer Name', 'Currency', 'Group Name',\n",
       "       'Order Year', 'Order Month', 'Order Month Digit'],\n",
       "      dtype='object')"
      ]
     },
     "execution_count": 16,
     "metadata": {},
     "output_type": "execute_result"
    }
   ],
   "source": [
    "df.columns"
   ]
  }
 ],
 "metadata": {
  "kernelspec": {
   "display_name": "Python 3",
   "language": "python",
   "name": "python3"
  },
  "language_info": {
   "codemirror_mode": {
    "name": "ipython",
    "version": 3
   },
   "file_extension": ".py",
   "mimetype": "text/x-python",
   "name": "python",
   "nbconvert_exporter": "python",
   "pygments_lexer": "ipython3",
   "version": "3.7.4"
  }
 },
 "nbformat": 4,
 "nbformat_minor": 5
}
